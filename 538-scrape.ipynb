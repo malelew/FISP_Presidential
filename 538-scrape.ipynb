{
 "cells": [
  {
   "cell_type": "markdown",
   "metadata": {},
   "source": [
    "# 538 Scrape\n",
    "\n",
    "This project will be using polling data collected and analyzed by 538 to investigate the connection between twitter and candidate polling.\n",
    "\n",
    "This notebook uses code provided on the BuzzFeed News [github](https://github.com/BuzzFeedNews/2016-11-grading-the-election-forecasts)"
   ]
  },
  {
   "cell_type": "code",
   "execution_count": 21,
   "metadata": {},
   "outputs": [],
   "source": [
    "import requests\n",
    "import forecast\n",
    "import random\n",
    "import itertools\n",
    "import json\n",
    "import re\n",
    "import sys\n",
    "import pandas as pd"
   ]
  },
  {
   "cell_type": "code",
   "execution_count": 4,
   "metadata": {
    "collapsed": true
   },
   "outputs": [],
   "source": [
    "BASE_URL = \"https://projects.fivethirtyeight.com/2016-election-forecast/\""
   ]
  },
  {
   "cell_type": "code",
   "execution_count": 5,
   "metadata": {
    "collapsed": true
   },
   "outputs": [],
   "source": [
    "def process_historical(data, office):\n",
    "    fs = data[\"forecasts\"][\"all\"]\n",
    "    arr = []\n",
    "    for f in fs:\n",
    "        for model_name, model in f[\"models\"].items():\n",
    "            arr.append({\n",
    "                \"date\": f[\"date\"],\n",
    "                \"model\": \"538_\" + model_name,\n",
    "                \"office\": office,\n",
    "                \"state\": data[\"state\"],\n",
    "                \"party\": f[\"party\"],\n",
    "                \"candidate\": f[\"candidate\"].upper(),\n",
    "                \"win_prob\": model[\"winprob\"] / 100,\n",
    "                \"est_diff\": None,\n",
    "                \"est_share\": model[\"forecast\"] / 100,\n",
    "                \"est_share_2p\": None,\n",
    "            })\n",
    "    return arr "
   ]
  },
  {
   "cell_type": "code",
   "execution_count": 6,
   "metadata": {
    "collapsed": true
   },
   "outputs": [],
   "source": [
    "def get_inline_data(url, variable):\n",
    "    res = requests.get(url, params={ \"r\": random.random() })\n",
    "    html = res.content.decode(\"utf-8\")\n",
    "    match = re.search(r\"{0} = ([^;]+)\".format(variable), html)\n",
    "    raw = json.loads(match.group(1))\n",
    "    return raw"
   ]
  },
  {
   "cell_type": "code",
   "execution_count": 18,
   "metadata": {},
   "outputs": [],
   "source": [
    "def get_historical_predictions():\n",
    "    arr = []\n",
    "    raw = get_inline_data(BASE_URL, \"race.stateData\")\n",
    "    p = process_historical(raw, 'P')\n",
    "    arr += p\n",
    "    return arr"
   ]
  },
  {
   "cell_type": "code",
   "execution_count": 44,
   "metadata": {},
   "outputs": [],
   "source": [
    "df = pd.DataFrame(get_historical_predictions())"
   ]
  },
  {
   "cell_type": "code",
   "execution_count": 45,
   "metadata": {},
   "outputs": [
    {
     "data": {
      "text/html": [
       "<div>\n",
       "<style>\n",
       "    .dataframe thead tr:only-child th {\n",
       "        text-align: right;\n",
       "    }\n",
       "\n",
       "    .dataframe thead th {\n",
       "        text-align: left;\n",
       "    }\n",
       "\n",
       "    .dataframe tbody tr th {\n",
       "        vertical-align: top;\n",
       "    }\n",
       "</style>\n",
       "<table border=\"1\" class=\"dataframe\">\n",
       "  <thead>\n",
       "    <tr style=\"text-align: right;\">\n",
       "      <th></th>\n",
       "      <th>candidate</th>\n",
       "      <th>date</th>\n",
       "      <th>est_diff</th>\n",
       "      <th>est_share</th>\n",
       "      <th>est_share_2p</th>\n",
       "      <th>model</th>\n",
       "      <th>office</th>\n",
       "      <th>party</th>\n",
       "      <th>state</th>\n",
       "      <th>win_prob</th>\n",
       "    </tr>\n",
       "  </thead>\n",
       "  <tbody>\n",
       "    <tr>\n",
       "      <th>0</th>\n",
       "      <td>CLINTON</td>\n",
       "      <td>2016-11-08</td>\n",
       "      <td>None</td>\n",
       "      <td>0.485272</td>\n",
       "      <td>None</td>\n",
       "      <td>538_now</td>\n",
       "      <td>P</td>\n",
       "      <td>D</td>\n",
       "      <td>US</td>\n",
       "      <td>0.71365</td>\n",
       "    </tr>\n",
       "    <tr>\n",
       "      <th>1</th>\n",
       "      <td>CLINTON</td>\n",
       "      <td>2016-11-08</td>\n",
       "      <td>None</td>\n",
       "      <td>0.485272</td>\n",
       "      <td>None</td>\n",
       "      <td>538_polls</td>\n",
       "      <td>P</td>\n",
       "      <td>D</td>\n",
       "      <td>US</td>\n",
       "      <td>0.71365</td>\n",
       "    </tr>\n",
       "    <tr>\n",
       "      <th>2</th>\n",
       "      <td>CLINTON</td>\n",
       "      <td>2016-11-08</td>\n",
       "      <td>None</td>\n",
       "      <td>0.484984</td>\n",
       "      <td>None</td>\n",
       "      <td>538_plus</td>\n",
       "      <td>P</td>\n",
       "      <td>D</td>\n",
       "      <td>US</td>\n",
       "      <td>0.71770</td>\n",
       "    </tr>\n",
       "    <tr>\n",
       "      <th>3</th>\n",
       "      <td>TRUMP</td>\n",
       "      <td>2016-11-08</td>\n",
       "      <td>None</td>\n",
       "      <td>0.449499</td>\n",
       "      <td>None</td>\n",
       "      <td>538_now</td>\n",
       "      <td>P</td>\n",
       "      <td>R</td>\n",
       "      <td>US</td>\n",
       "      <td>0.28600</td>\n",
       "    </tr>\n",
       "    <tr>\n",
       "      <th>4</th>\n",
       "      <td>TRUMP</td>\n",
       "      <td>2016-11-08</td>\n",
       "      <td>None</td>\n",
       "      <td>0.449499</td>\n",
       "      <td>None</td>\n",
       "      <td>538_polls</td>\n",
       "      <td>P</td>\n",
       "      <td>R</td>\n",
       "      <td>US</td>\n",
       "      <td>0.28600</td>\n",
       "    </tr>\n",
       "  </tbody>\n",
       "</table>\n",
       "</div>"
      ],
      "text/plain": [
       "  candidate        date est_diff  est_share est_share_2p      model office  \\\n",
       "0   CLINTON  2016-11-08     None   0.485272         None    538_now      P   \n",
       "1   CLINTON  2016-11-08     None   0.485272         None  538_polls      P   \n",
       "2   CLINTON  2016-11-08     None   0.484984         None   538_plus      P   \n",
       "3     TRUMP  2016-11-08     None   0.449499         None    538_now      P   \n",
       "4     TRUMP  2016-11-08     None   0.449499         None  538_polls      P   \n",
       "\n",
       "  party state  win_prob  \n",
       "0     D    US   0.71365  \n",
       "1     D    US   0.71365  \n",
       "2     D    US   0.71770  \n",
       "3     R    US   0.28600  \n",
       "4     R    US   0.28600  "
      ]
     },
     "execution_count": 45,
     "metadata": {},
     "output_type": "execute_result"
    }
   ],
   "source": [
    "df.head()"
   ]
  },
  {
   "cell_type": "code",
   "execution_count": 46,
   "metadata": {},
   "outputs": [],
   "source": [
    "clinton_df = df[df.candidate == 'CLINTON']\n",
    "clinton_now_df = clinton_df[clinton_df.model == '538_polls']"
   ]
  },
  {
   "cell_type": "code",
   "execution_count": 48,
   "metadata": {
    "collapsed": true
   },
   "outputs": [],
   "source": [
    "trump_df = df[df.candidate == 'TRUMP']\n",
    "trump_now_df = trump_df[trump_df.model == '538_polls']"
   ]
  },
  {
   "cell_type": "code",
   "execution_count": 50,
   "metadata": {
    "collapsed": true
   },
   "outputs": [],
   "source": [
    "clinton_now_df.to_csv('clinton_polls_only.csv')\n",
    "trump_now_df.to_csv('trump_polls_only.csv')"
   ]
  },
  {
   "cell_type": "code",
   "execution_count": null,
   "metadata": {
    "collapsed": true
   },
   "outputs": [],
   "source": []
  }
 ],
 "metadata": {
  "kernelspec": {
   "display_name": "Python 2",
   "language": "python",
   "name": "python2"
  },
  "language_info": {
   "codemirror_mode": {
    "name": "ipython",
    "version": 2
   },
   "file_extension": ".py",
   "mimetype": "text/x-python",
   "name": "python",
   "nbconvert_exporter": "python",
   "pygments_lexer": "ipython2",
   "version": "2.7.13"
  }
 },
 "nbformat": 4,
 "nbformat_minor": 2
}
